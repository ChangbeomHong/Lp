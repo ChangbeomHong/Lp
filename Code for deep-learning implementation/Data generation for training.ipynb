{
 "cells": [
  {
   "cell_type": "code",
   "execution_count": null,
   "id": "fd2e9301-616b-4e11-b1e1-0c4dbc0c82a1",
   "metadata": {},
   "outputs": [],
   "source": [
    "import numpy as np"
   ]
  },
  {
   "cell_type": "markdown",
   "id": "81600874-b770-45a4-ae57-609a09fa9aa2",
   "metadata": {},
   "source": [
    "# Generate polymer chain conformations with constant persistence lengths"
   ]
  },
  {
   "cell_type": "code",
   "execution_count": null,
   "id": "b3f60e96-b3d0-446b-bbf2-674362dfb690",
   "metadata": {},
   "outputs": [],
   "source": [
    "n_data = # Number of polymer chains for each Lp\n",
    "n_intervals = # Specifying training range\n",
    "L = 25 # Size of window (Lw)\n",
    "x = []\n",
    "y = []\n",
    "log_Lp = []\n",
    "\n",
    "for i in range(n_intervals) :\n",
    "    Lp = 2*np.ones(L)*10**(0.25*i)\n",
    "    tmp_x = np.zeros((n_data,L))\n",
    "    tmp_y = np.zeros((n_data,L))\n",
    "    tmp_Lp = np.zeros(n_data)\n",
    "    \n",
    "    for j in range(n_data):\n",
    "        dthetas = np.random.normal(0,1,L)\n",
    "        dthetas /= (Lp/2)**0.5\n",
    "        thetas = np.cumsum(dthetas)\n",
    "        tmp_x[j], tmp_y[j] = np.cumsum(np.cos(thetas)), np.cumsum(np.sin(thetas))\n",
    "        tmp_Lp[j] = np.log10(np.mean(Lp))\n",
    "    x.append(tmp_x)\n",
    "    y.append(tmp_y)\n",
    "    log_Lp.append(tmp_Lp)\n",
    "x = np.vstack(x)\n",
    "y = np.vstack(y)\n",
    "log_Lp = np.hstack(log_Lp)\n",
    "\n",
    "np.save('./x.npy', x)\n",
    "np.save('./y.npy', y)\n",
    "np.save('./log_Lp.npy', log_Lp)"
   ]
  }
 ],
 "metadata": {
  "kernelspec": {
   "display_name": "Python 3 (ipykernel)",
   "language": "python",
   "name": "python3"
  },
  "language_info": {
   "codemirror_mode": {
    "name": "ipython",
    "version": 3
   },
   "file_extension": ".py",
   "mimetype": "text/x-python",
   "name": "python",
   "nbconvert_exporter": "python",
   "pygments_lexer": "ipython3",
   "version": "3.11.6"
  }
 },
 "nbformat": 4,
 "nbformat_minor": 5
}
