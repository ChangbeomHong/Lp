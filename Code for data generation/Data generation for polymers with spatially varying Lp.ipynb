{
 "cells": [
  {
   "cell_type": "code",
   "execution_count": null,
   "id": "1fa5fd06-0a6b-4346-a37d-8e18f8658292",
   "metadata": {},
   "outputs": [],
   "source": [
    "import numpy"
   ]
  },
  {
   "cell_type": "markdown",
   "id": "156f134c-acb6-4dd5-bbf5-37542fcd5369",
   "metadata": {},
   "source": [
    "# Generate polymer chain conformations with spatially varying persistence lengths"
   ]
  },
  {
   "cell_type": "code",
   "execution_count": null,
   "id": "0ad505e4-6fec-42a1-88cb-12ef7287c7f6",
   "metadata": {},
   "outputs": [],
   "source": [
    "def sigmoid_scaled(x, k=10):\n",
    "    return 20 + 100 / (1 + np.exp(-k * (x - 0.5)))"
   ]
  },
  {
   "cell_type": "code",
   "execution_count": null,
   "id": "5eefeae4-8f9d-47d0-ae74-56945b7c000e",
   "metadata": {},
   "outputs": [],
   "source": [
    "ss = np.linspace(0,1,L)\n",
    "Lp = sigmoid_scaled(ss, k = 15)"
   ]
  },
  {
   "cell_type": "code",
   "execution_count": null,
   "id": "331143d1-e904-42c7-908f-7798e24a90dd",
   "metadata": {},
   "outputs": [],
   "source": [
    "N = 10000 # Number of polymer chains\n",
    "L = 150 # Total length of polymer chains\n",
    "x = np.zeros((N,L))\n",
    "y = np.zeros((N,L))\n",
    "for i in range(N) :\n",
    "    dthetas = np.random.normal(0,1,L)\n",
    "    dthetas /= (Lp/2)**0.5\n",
    "    thetas = np.cumsum(dthetas)\n",
    "    x[i] = np.cumsum(np.cos(thetas))\n",
    "    y[i]= np.cumsum(np.sin(thetas))"
   ]
  }
 ],
 "metadata": {
  "kernelspec": {
   "display_name": "Python 3 (ipykernel)",
   "language": "python",
   "name": "python3"
  },
  "language_info": {
   "codemirror_mode": {
    "name": "ipython",
    "version": 3
   },
   "file_extension": ".py",
   "mimetype": "text/x-python",
   "name": "python",
   "nbconvert_exporter": "python",
   "pygments_lexer": "ipython3",
   "version": "3.11.6"
  }
 },
 "nbformat": 4,
 "nbformat_minor": 5
}
