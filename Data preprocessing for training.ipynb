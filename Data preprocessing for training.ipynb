{
 "cells": [
  {
   "cell_type": "code",
   "execution_count": null,
   "id": "4793b4ae-fba1-4ed5-9d89-71586136e770",
   "metadata": {},
   "outputs": [],
   "source": [
    "import numpy"
   ]
  },
  {
   "cell_type": "markdown",
   "id": "3e0df8c2-bd4b-4e7c-b8fc-3d0469e204b2",
   "metadata": {},
   "source": [
    "# Load datra set"
   ]
  },
  {
   "cell_type": "code",
   "execution_count": null,
   "id": "bc11c7de-9c02-4595-a10b-dce7434f47a4",
   "metadata": {},
   "outputs": [],
   "source": [
    "x = np.load('./x.npy')\n",
    "y = np.load('./y.npy')"
   ]
  },
  {
   "cell_type": "markdown",
   "id": "d7ff5262-ae7b-4968-939f-6f55c2e33ef3",
   "metadata": {},
   "source": [
    "# Initial alignment & MinMax scaling"
   ]
  },
  {
   "cell_type": "code",
   "execution_count": null,
   "id": "e8142de8-f244-47c3-a706-7f82dfe91d86",
   "metadata": {},
   "outputs": [],
   "source": [
    "def align_polymer_to_x_axis(x, y):\n",
    "    coords = np.vstack((x, y)).T\n",
    "    \n",
    "    # Define the initial vector (first to second monomer)\n",
    "    v0 = coords[1] - coords[0]\n",
    "    \n",
    "    # Compute the angle between v0 and the +x axis\n",
    "    angle = np.arctan2(v0[1], v0[0])\n",
    "    \n",
    "    # Compute the rotation matrix to align v0 with +x axis\n",
    "    rotation_matrix = np.array([\n",
    "        [np.cos(-angle), -np.sin(-angle)],\n",
    "        [np.sin(-angle), np.cos(-angle)]\n",
    "    ])\n",
    "    \n",
    "    # Rotate all points around the first monomer\n",
    "    rotated_coords = (coords - coords[0]) @ rotation_matrix.T + coords[0]\n",
    "    \n",
    "    return rotated_coords[:, 0], rotated_coords[:, 1]\n",
    "\n",
    "def min_max_scaler(data, feature_range=(-1, 1)):\n",
    "    min_range, max_range = feature_range\n",
    "    min_values = np.min(data, axis=0)\n",
    "    max_values = np.max(data, axis=0)\n",
    "    scaled_data = min_range + (data - min_values) * (max_range - min_range) / (max_values - min_values)\n",
    "    return scaled_data"
   ]
  },
  {
   "cell_type": "code",
   "execution_count": null,
   "id": "e8a1a265-c429-4b36-bf58-f4f201e3460f",
   "metadata": {},
   "outputs": [],
   "source": [
    "for i in range(x.shape[0]) :\n",
    "    tmp_x, tmp_y = align_polymer_to_x_axis(x[i], y[i])\n",
    "    x[i] = min_max_scaler(tmp_x)\n",
    "    y[i] = min_max_scaler(tmp_y)\n",
    "\n",
    "np.save('./MinMax_scaled_x.npy', x)\n",
    "np.save('./MinMax_scaled_y.npy', y)"
   ]
  }
 ],
 "metadata": {
  "kernelspec": {
   "display_name": "Python 3 (ipykernel)",
   "language": "python",
   "name": "python3"
  },
  "language_info": {
   "codemirror_mode": {
    "name": "ipython",
    "version": 3
   },
   "file_extension": ".py",
   "mimetype": "text/x-python",
   "name": "python",
   "nbconvert_exporter": "python",
   "pygments_lexer": "ipython3",
   "version": "3.11.6"
  }
 },
 "nbformat": 4,
 "nbformat_minor": 5
}
